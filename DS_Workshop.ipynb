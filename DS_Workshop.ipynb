{
 "cells": [
  {
   "cell_type": "code",
   "execution_count": 4,
   "metadata": {},
   "outputs": [],
   "source": [
    "# Data libraries.\n",
    "import numpy as np\n",
    "import scipy as sp\n",
    "import pandas as pd\n",
    "\n",
    "# Data vizualization libraries.\n",
    "from tqdm import tqdm\n",
    "import matplotlib.pyplot as plt\n",
    "\n",
    "# Association rules libraries.\n",
    "from efficient_apriori import apriori\n",
    "\n",
    "# Machine learning libraries.\n",
    "import datawig\n",
    "\n",
    "# Utilities we wrote for this project.\n",
    "import utils"
   ]
  },
  {
   "attachments": {},
   "cell_type": "markdown",
   "metadata": {},
   "source": [
    "## 1. Load Dataset"
   ]
  },
  {
   "cell_type": "code",
   "execution_count": 17,
   "metadata": {},
   "outputs": [
    {
     "data": {
      "text/html": [
       "<div>\n",
       "<style scoped>\n",
       "    .dataframe tbody tr th:only-of-type {\n",
       "        vertical-align: middle;\n",
       "    }\n",
       "\n",
       "    .dataframe tbody tr th {\n",
       "        vertical-align: top;\n",
       "    }\n",
       "\n",
       "    .dataframe thead th {\n",
       "        text-align: right;\n",
       "    }\n",
       "</style>\n",
       "<table border=\"1\" class=\"dataframe\">\n",
       "  <thead>\n",
       "    <tr style=\"text-align: right;\">\n",
       "      <th></th>\n",
       "      <th>age</th>\n",
       "      <th>workclass</th>\n",
       "      <th>observation-weight</th>\n",
       "      <th>education</th>\n",
       "      <th>education-num</th>\n",
       "      <th>marital-status</th>\n",
       "      <th>occupation</th>\n",
       "      <th>relationship</th>\n",
       "      <th>race</th>\n",
       "      <th>sex</th>\n",
       "      <th>capital-gain</th>\n",
       "      <th>capital-loss</th>\n",
       "      <th>hours-per-week</th>\n",
       "      <th>native-country</th>\n",
       "      <th>class</th>\n",
       "    </tr>\n",
       "  </thead>\n",
       "  <tbody>\n",
       "    <tr>\n",
       "      <th>0</th>\n",
       "      <td>39.0</td>\n",
       "      <td>NaN</td>\n",
       "      <td>77516.0</td>\n",
       "      <td>Bachelors</td>\n",
       "      <td>13.0</td>\n",
       "      <td>Never-married</td>\n",
       "      <td>Adm-clerical</td>\n",
       "      <td>Not-in-family</td>\n",
       "      <td>White</td>\n",
       "      <td>Male</td>\n",
       "      <td>2174.0</td>\n",
       "      <td>NaN</td>\n",
       "      <td>40.0</td>\n",
       "      <td>United-States</td>\n",
       "      <td>&lt;=50K</td>\n",
       "    </tr>\n",
       "    <tr>\n",
       "      <th>1</th>\n",
       "      <td>50.0</td>\n",
       "      <td>Self-emp-not-inc</td>\n",
       "      <td>83311.0</td>\n",
       "      <td>Bachelors</td>\n",
       "      <td>13.0</td>\n",
       "      <td>Married-civ-spouse</td>\n",
       "      <td>Exec-managerial</td>\n",
       "      <td>Husband</td>\n",
       "      <td>White</td>\n",
       "      <td>Male</td>\n",
       "      <td>0.0</td>\n",
       "      <td>0.0</td>\n",
       "      <td>13.0</td>\n",
       "      <td>United-States</td>\n",
       "      <td>&lt;=50K</td>\n",
       "    </tr>\n",
       "    <tr>\n",
       "      <th>2</th>\n",
       "      <td>38.0</td>\n",
       "      <td>Private</td>\n",
       "      <td>215646.0</td>\n",
       "      <td>NaN</td>\n",
       "      <td>NaN</td>\n",
       "      <td>Divorced</td>\n",
       "      <td>Handlers-cleaners</td>\n",
       "      <td>Not-in-family</td>\n",
       "      <td>White</td>\n",
       "      <td>Male</td>\n",
       "      <td>0.0</td>\n",
       "      <td>0.0</td>\n",
       "      <td>40.0</td>\n",
       "      <td>NaN</td>\n",
       "      <td>&lt;=50K</td>\n",
       "    </tr>\n",
       "    <tr>\n",
       "      <th>3</th>\n",
       "      <td>53.0</td>\n",
       "      <td>Private</td>\n",
       "      <td>234721.0</td>\n",
       "      <td>11th</td>\n",
       "      <td>7.0</td>\n",
       "      <td>NaN</td>\n",
       "      <td>Handlers-cleaners</td>\n",
       "      <td>NaN</td>\n",
       "      <td>Black</td>\n",
       "      <td>Male</td>\n",
       "      <td>NaN</td>\n",
       "      <td>0.0</td>\n",
       "      <td>40.0</td>\n",
       "      <td>United-States</td>\n",
       "      <td>&lt;=50K</td>\n",
       "    </tr>\n",
       "    <tr>\n",
       "      <th>4</th>\n",
       "      <td>28.0</td>\n",
       "      <td>Private</td>\n",
       "      <td>338409.0</td>\n",
       "      <td>Bachelors</td>\n",
       "      <td>13.0</td>\n",
       "      <td>Married-civ-spouse</td>\n",
       "      <td>Prof-specialty</td>\n",
       "      <td>Wife</td>\n",
       "      <td>Black</td>\n",
       "      <td>NaN</td>\n",
       "      <td>0.0</td>\n",
       "      <td>0.0</td>\n",
       "      <td>40.0</td>\n",
       "      <td>Cuba</td>\n",
       "      <td>&lt;=50K</td>\n",
       "    </tr>\n",
       "    <tr>\n",
       "      <th>...</th>\n",
       "      <td>...</td>\n",
       "      <td>...</td>\n",
       "      <td>...</td>\n",
       "      <td>...</td>\n",
       "      <td>...</td>\n",
       "      <td>...</td>\n",
       "      <td>...</td>\n",
       "      <td>...</td>\n",
       "      <td>...</td>\n",
       "      <td>...</td>\n",
       "      <td>...</td>\n",
       "      <td>...</td>\n",
       "      <td>...</td>\n",
       "      <td>...</td>\n",
       "      <td>...</td>\n",
       "    </tr>\n",
       "    <tr>\n",
       "      <th>32556</th>\n",
       "      <td>27.0</td>\n",
       "      <td>Private</td>\n",
       "      <td>257302.0</td>\n",
       "      <td>Assoc-acdm</td>\n",
       "      <td>NaN</td>\n",
       "      <td>Married-civ-spouse</td>\n",
       "      <td>Tech-support</td>\n",
       "      <td>NaN</td>\n",
       "      <td>White</td>\n",
       "      <td>Female</td>\n",
       "      <td>0.0</td>\n",
       "      <td>NaN</td>\n",
       "      <td>38.0</td>\n",
       "      <td>United-States</td>\n",
       "      <td>&lt;=50K</td>\n",
       "    </tr>\n",
       "    <tr>\n",
       "      <th>32557</th>\n",
       "      <td>40.0</td>\n",
       "      <td>Private</td>\n",
       "      <td>NaN</td>\n",
       "      <td>HS-grad</td>\n",
       "      <td>9.0</td>\n",
       "      <td>Married-civ-spouse</td>\n",
       "      <td>Machine-op-inspct</td>\n",
       "      <td>Husband</td>\n",
       "      <td>White</td>\n",
       "      <td>Male</td>\n",
       "      <td>0.0</td>\n",
       "      <td>0.0</td>\n",
       "      <td>40.0</td>\n",
       "      <td>United-States</td>\n",
       "      <td>&gt;50K</td>\n",
       "    </tr>\n",
       "    <tr>\n",
       "      <th>32558</th>\n",
       "      <td>58.0</td>\n",
       "      <td>Private</td>\n",
       "      <td>151910.0</td>\n",
       "      <td>HS-grad</td>\n",
       "      <td>9.0</td>\n",
       "      <td>Widowed</td>\n",
       "      <td>Adm-clerical</td>\n",
       "      <td>Unmarried</td>\n",
       "      <td>White</td>\n",
       "      <td>Female</td>\n",
       "      <td>0.0</td>\n",
       "      <td>0.0</td>\n",
       "      <td>40.0</td>\n",
       "      <td>United-States</td>\n",
       "      <td>&lt;=50K</td>\n",
       "    </tr>\n",
       "    <tr>\n",
       "      <th>32559</th>\n",
       "      <td>22.0</td>\n",
       "      <td>Private</td>\n",
       "      <td>201490.0</td>\n",
       "      <td>HS-grad</td>\n",
       "      <td>9.0</td>\n",
       "      <td>Never-married</td>\n",
       "      <td>Adm-clerical</td>\n",
       "      <td>NaN</td>\n",
       "      <td>White</td>\n",
       "      <td>Male</td>\n",
       "      <td>0.0</td>\n",
       "      <td>0.0</td>\n",
       "      <td>NaN</td>\n",
       "      <td>United-States</td>\n",
       "      <td>&lt;=50K</td>\n",
       "    </tr>\n",
       "    <tr>\n",
       "      <th>32560</th>\n",
       "      <td>52.0</td>\n",
       "      <td>Self-emp-inc</td>\n",
       "      <td>287927.0</td>\n",
       "      <td>HS-grad</td>\n",
       "      <td>9.0</td>\n",
       "      <td>Married-civ-spouse</td>\n",
       "      <td>Exec-managerial</td>\n",
       "      <td>NaN</td>\n",
       "      <td>White</td>\n",
       "      <td>Female</td>\n",
       "      <td>15024.0</td>\n",
       "      <td>0.0</td>\n",
       "      <td>NaN</td>\n",
       "      <td>United-States</td>\n",
       "      <td>&gt;50K</td>\n",
       "    </tr>\n",
       "  </tbody>\n",
       "</table>\n",
       "<p>32561 rows × 15 columns</p>\n",
       "</div>"
      ],
      "text/plain": [
       "        age          workclass  observation-weight    education  \\\n",
       "0      39.0                NaN             77516.0    Bachelors   \n",
       "1      50.0   Self-emp-not-inc             83311.0    Bachelors   \n",
       "2      38.0            Private            215646.0          NaN   \n",
       "3      53.0            Private            234721.0         11th   \n",
       "4      28.0            Private            338409.0    Bachelors   \n",
       "...     ...                ...                 ...          ...   \n",
       "32556  27.0            Private            257302.0   Assoc-acdm   \n",
       "32557  40.0            Private                 NaN      HS-grad   \n",
       "32558  58.0            Private            151910.0      HS-grad   \n",
       "32559  22.0            Private            201490.0      HS-grad   \n",
       "32560  52.0       Self-emp-inc            287927.0      HS-grad   \n",
       "\n",
       "       education-num       marital-status          occupation    relationship  \\\n",
       "0               13.0        Never-married        Adm-clerical   Not-in-family   \n",
       "1               13.0   Married-civ-spouse     Exec-managerial         Husband   \n",
       "2                NaN             Divorced   Handlers-cleaners   Not-in-family   \n",
       "3                7.0                  NaN   Handlers-cleaners             NaN   \n",
       "4               13.0   Married-civ-spouse      Prof-specialty            Wife   \n",
       "...              ...                  ...                 ...             ...   \n",
       "32556            NaN   Married-civ-spouse        Tech-support             NaN   \n",
       "32557            9.0   Married-civ-spouse   Machine-op-inspct         Husband   \n",
       "32558            9.0              Widowed        Adm-clerical       Unmarried   \n",
       "32559            9.0        Never-married        Adm-clerical             NaN   \n",
       "32560            9.0   Married-civ-spouse     Exec-managerial             NaN   \n",
       "\n",
       "         race      sex  capital-gain  capital-loss  hours-per-week  \\\n",
       "0       White     Male        2174.0           NaN            40.0   \n",
       "1       White     Male           0.0           0.0            13.0   \n",
       "2       White     Male           0.0           0.0            40.0   \n",
       "3       Black     Male           NaN           0.0            40.0   \n",
       "4       Black      NaN           0.0           0.0            40.0   \n",
       "...       ...      ...           ...           ...             ...   \n",
       "32556   White   Female           0.0           NaN            38.0   \n",
       "32557   White     Male           0.0           0.0            40.0   \n",
       "32558   White   Female           0.0           0.0            40.0   \n",
       "32559   White     Male           0.0           0.0             NaN   \n",
       "32560   White   Female       15024.0           0.0             NaN   \n",
       "\n",
       "       native-country   class  \n",
       "0       United-States   <=50K  \n",
       "1       United-States   <=50K  \n",
       "2                 NaN   <=50K  \n",
       "3       United-States   <=50K  \n",
       "4                Cuba   <=50K  \n",
       "...               ...     ...  \n",
       "32556   United-States   <=50K  \n",
       "32557   United-States    >50K  \n",
       "32558   United-States   <=50K  \n",
       "32559   United-States   <=50K  \n",
       "32560   United-States    >50K  \n",
       "\n",
       "[32561 rows x 15 columns]"
      ]
     },
     "execution_count": 17,
     "metadata": {},
     "output_type": "execute_result"
    }
   ],
   "source": [
    "# Read data from files.\n",
    "df = pd.read_csv('./data/adultsIncome/raw/adultsIncome_no_nan.csv')\n",
    "df_with_missing = pd.read_csv('./data/adultsIncome/10percent/adultsIncome_0.1_nan.csv')\n",
    "df_with_missing_ar = df_with_missing.copy(deep=True)\n",
    "df_with_missing_ml = df_with_missing.copy(deep=True)\n",
    "df_with_missing"
   ]
  },
  {
   "cell_type": "code",
   "execution_count": 18,
   "metadata": {},
   "outputs": [
    {
     "name": "stdout",
     "output_type": "stream",
     "text": [
      "Number of missing values: 48647\n"
     ]
    }
   ],
   "source": [
    "num_of_missing_before = df_with_missing_ar.isnull().sum().sum()\n",
    "print(f'Number of missing values: {num_of_missing_before}')"
   ]
  },
  {
   "attachments": {},
   "cell_type": "markdown",
   "metadata": {},
   "source": [
    "## Association Rules algorithm to fill missing values"
   ]
  },
  {
   "cell_type": "code",
   "execution_count": 7,
   "metadata": {},
   "outputs": [],
   "source": [
    "df_for_apriori = df_with_missing_ar.copy(deep=True)\n",
    "\n",
    "# go through each column and replace the values with a string\n",
    "for col in df_for_apriori.columns:\n",
    "    df_for_apriori[col] = df_for_apriori[col].astype(str)\n",
    "# convert the dataframe to a list of lists\n",
    "dict_for_apriori = df_for_apriori.to_dict(orient='records')\n",
    "transactions = [list(item.items()) for item in dict_for_apriori]"
   ]
  },
  {
   "attachments": {},
   "cell_type": "markdown",
   "metadata": {},
   "source": [
    "Finding the association rules using the Apriori algorithm"
   ]
  },
  {
   "cell_type": "code",
   "execution_count": 8,
   "metadata": {},
   "outputs": [
    {
     "name": "stdout",
     "output_type": "stream",
     "text": [
      "We have 1143 rules and here are the first 10:\n"
     ]
    },
    {
     "data": {
      "text/plain": [
       "[{('capital-loss', '0.0')} -> {('capital-gain', '0.0')},\n",
       " {('capital-gain', '0.0')} -> {('capital-loss', '0.0')},\n",
       " {('class', ' <=50K')} -> {('capital-gain', '0.0')},\n",
       " {('capital-gain', '0.0')} -> {('class', ' <=50K')},\n",
       " {('education', ' HS-grad')} -> {('capital-gain', '0.0')},\n",
       " {('education-num', '9.0')} -> {('capital-gain', '0.0')},\n",
       " {('hours-per-week', '40.0')} -> {('capital-gain', '0.0')},\n",
       " {('marital-status', ' Married-civ-spouse')} -> {('capital-gain', '0.0')},\n",
       " {('marital-status', ' Never-married')} -> {('capital-gain', '0.0')},\n",
       " {('native-country', ' United-States')} -> {('capital-gain', '0.0')}]"
      ]
     },
     "execution_count": 8,
     "metadata": {},
     "output_type": "execute_result"
    }
   ],
   "source": [
    "itemsets, rules = apriori(transactions, min_support=0.2, min_confidence=0.55, output_transaction_ids=False)\n",
    "print(f'We have {len(rules)} rules and here are the first 10:')\n",
    "rules[:10]"
   ]
  },
  {
   "cell_type": "code",
   "execution_count": 9,
   "metadata": {},
   "outputs": [
    {
     "name": "stdout",
     "output_type": "stream",
     "text": [
      "Rule: (('capital-loss', '0.0'), ('education-num', '9.0')) -> (('education', ' HS-grad'),), Lift: 3.1010656863144934\n",
      "Rule: (('education', ' HS-grad'),) -> (('capital-loss', '0.0'), ('education-num', '9.0')), Lift: 3.1010656863144934\n",
      "Rule: (('capital-gain', '0.0'), ('education', ' HS-grad')) -> (('education-num', '9.0'),), Lift: 3.0999415464714577\n",
      "Rule: (('education-num', '9.0'),) -> (('capital-gain', '0.0'), ('education', ' HS-grad')), Lift: 3.0999415464714577\n",
      "Rule: (('capital-gain', '0.0'), ('education-num', '9.0')) -> (('education', ' HS-grad'),), Lift: 3.0992545221324486\n",
      "Rule: (('education', ' HS-grad'),) -> (('capital-gain', '0.0'), ('education-num', '9.0')), Lift: 3.0992545221324486\n",
      "Rule: (('education-num', '9.0'), ('native-country', ' United-States')) -> (('education', ' HS-grad'),), Lift: 3.0990446401987515\n",
      "Rule: (('education', ' HS-grad'),) -> (('education-num', '9.0'), ('native-country', ' United-States')), Lift: 3.0990446401987515\n",
      "Rule: (('education', ' HS-grad'), ('native-country', ' United-States')) -> (('education-num', '9.0'),), Lift: 3.0981237989404775\n",
      "Rule: (('education-num', '9.0'),) -> (('education', ' HS-grad'), ('native-country', ' United-States')), Lift: 3.0981237989404775\n"
     ]
    }
   ],
   "source": [
    "# sort rules by lift value\n",
    "sorted_rules = sorted(rules, key=lambda x: x.lift, reverse=True)\n",
    "for rule in sorted_rules[:10]:\n",
    "    print(f'Rule: {rule.lhs} -> {rule.rhs}, Lift: {rule.lift}')"
   ]
  },
  {
   "cell_type": "code",
   "execution_count": 10,
   "metadata": {},
   "outputs": [],
   "source": [
    "df_missing_index_rows = df_with_missing_ar.index[df_with_missing_ar.isna().any(axis=1)]"
   ]
  },
  {
   "attachments": {},
   "cell_type": "markdown",
   "metadata": {},
   "source": [
    "### Fill missing values algorithm"
   ]
  },
  {
   "cell_type": "code",
   "execution_count": 11,
   "metadata": {},
   "outputs": [],
   "source": [
    "# create a dictionary with the column names and the index of the column\n",
    "col_names = df_with_missing.columns\n",
    "col_names_dict = {}\n",
    "for i, col in enumerate(col_names):\n",
    "    col_names_dict[col] = i"
   ]
  },
  {
   "cell_type": "code",
   "execution_count": 21,
   "metadata": {},
   "outputs": [
    {
     "name": "stderr",
     "output_type": "stream",
     "text": [
      "100%|██████████| 25890/25890 [00:56<00:00, 460.71it/s]\n"
     ]
    }
   ],
   "source": [
    "# algortihm to fill missing values\n",
    "for index in tqdm(df_missing_index_rows):\n",
    "    # print the current row on the same line (replacing the previous line)\n",
    "    row = df_with_missing_ar.iloc[index]\n",
    "    rhs, lhs = [], []\n",
    "\n",
    "    for col in row.index:\n",
    "        rhs.append(col) if row[col] != row[col] else lhs.append(col)\n",
    "\n",
    "    relevant_rules = []\n",
    "    for rule in sorted_rules:\n",
    "        # check if [col[0] for col in rule.rhs] is a subset of rhs\n",
    "        if set([col[0] for col in rule.rhs]).issubset(set(rhs)): relevant_rules.append(rule)\n",
    "\n",
    "    for rule in relevant_rules:\n",
    "        # check if [keyval[0] for keyval in rule.lhs] is a subset of lhs\n",
    "        if set([keyval for keyval in rule.lhs]).issubset(set([(col, row[col]) for col in lhs])):\n",
    "            should_fill = True\n",
    "            for keyval in rule.rhs:\n",
    "                if row[keyval[0]] == row[keyval[0]] and keyval[1] != row[keyval[0]]:\n",
    "                    should_fill = False\n",
    "                    break\n",
    "            if should_fill:\n",
    "                for keyval in rule.rhs:\n",
    "                    df_with_missing_ar.iloc[index, col_names_dict[keyval[0]]] = keyval[1]"
   ]
  },
  {
   "cell_type": "code",
   "execution_count": 22,
   "metadata": {},
   "outputs": [
    {
     "name": "stdout",
     "output_type": "stream",
     "text": [
      "Number of filled values: 28145\n",
      "Number of left missing values: 20502\n"
     ]
    }
   ],
   "source": [
    "num_of_missing_after = df_with_missing_ar.isnull().sum().sum()\n",
    "print(f'Number of filled values: {num_of_missing_before - num_of_missing_after}')\n",
    "print(f'Number of left missing values: {num_of_missing_after}')"
   ]
  },
  {
   "cell_type": "code",
   "execution_count": 23,
   "metadata": {},
   "outputs": [
    {
     "name": "stderr",
     "output_type": "stream",
     "text": [
      "Checking accuracy: 100%|██████████| 32561/32561 [00:38<00:00, 848.59it/s]\n"
     ]
    },
    {
     "name": "stdout",
     "output_type": "stream",
     "text": [
      "With NaN = 31.4264%\n"
     ]
    },
    {
     "name": "stderr",
     "output_type": "stream",
     "text": [
      "Checking accuracy: 100%|██████████| 32561/32561 [01:13<00:00, 442.27it/s]"
     ]
    },
    {
     "name": "stdout",
     "output_type": "stream",
     "text": [
      "Without NaN = 72.41281%\n"
     ]
    },
    {
     "name": "stderr",
     "output_type": "stream",
     "text": [
      "\n"
     ]
    }
   ],
   "source": [
    "real_percent = num_of_missing_before / df.size\n",
    "print(f'With NaN = {utils.check_accuracy(df,df_with_missing_ar,real_percent,True)}%')\n",
    "print(f'Without NaN = {utils.check_accuracy(df,df_with_missing_ar,real_percent,False)}%')"
   ]
  },
  {
   "attachments": {},
   "cell_type": "markdown",
   "metadata": {},
   "source": [
    "## Machine learning algorithm to fill missing values"
   ]
  },
  {
   "cell_type": "code",
   "execution_count": null,
   "metadata": {},
   "outputs": [],
   "source": [
    "# Impute missing values using datawig.\n",
    "df_with_missing_ml = datawig.SimpleImputer.complete(df_with_missing_ml, precision_threshold = 0.05, num_epochs=100)"
   ]
  },
  {
   "cell_type": "code",
   "execution_count": null,
   "metadata": {},
   "outputs": [],
   "source": [
    "real_percent = num_of_missing_before / df.size\n",
    "print(f'With NaN = {utils.check_accuracy(df, df_with_missing_ml, real_percent, True)}%')\n",
    "print(f'Without NaN = {utils.check_accuracy(df, df_with_missing_ml, real_percent, False)}%')"
   ]
  }
 ],
 "metadata": {
  "kernelspec": {
   "display_name": ".venv",
   "language": "python",
   "name": "python3"
  },
  "language_info": {
   "codemirror_mode": {
    "name": "ipython",
    "version": 3
   },
   "file_extension": ".py",
   "mimetype": "text/x-python",
   "name": "python",
   "nbconvert_exporter": "python",
   "pygments_lexer": "ipython3",
   "version": "3.9.4"
  },
  "orig_nbformat": 4,
  "vscode": {
   "interpreter": {
    "hash": "5bf190b5e1b2470a583a99ea3991c6008041ce045e38fec866f56d87f63d334a"
   }
  }
 },
 "nbformat": 4,
 "nbformat_minor": 2
}
