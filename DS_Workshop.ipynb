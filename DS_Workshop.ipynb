{
 "cells": [
  {
   "cell_type": "code",
   "execution_count": 26,
   "metadata": {},
   "outputs": [],
   "source": [
    "# Data libraries.\n",
    "import numpy as np\n",
    "import scipy as sp\n",
    "import pandas as pd\n",
    "\n",
    "# Data vizualization libraries.\n",
    "import matplotlib.pyplot as plt\n",
    "\n",
    "# Association rules libraries.\n",
    "from efficient_apriori import apriori\n",
    "\n",
    "# Machine learning libraries.\n",
    "# import datawig"
   ]
  },
  {
   "cell_type": "code",
   "execution_count": 4,
   "metadata": {},
   "outputs": [],
   "source": [
    "# Read data from files.\n",
    "df = pd.read_csv('./data/adultsIncome/raw/raw_adultsIncome_no_nan.csv')\n",
    "df_with_missing = pd.read_csv('./data/adultsIncome/10percent/raw_adultsIncome_0.1nan.csv')"
   ]
  },
  {
   "cell_type": "code",
   "execution_count": 6,
   "metadata": {},
   "outputs": [],
   "source": [
    "df_for_apriori = df_with_missing.copy()\n",
    "for col in df_for_apriori.columns:\n",
    "    df_for_apriori[col] = df_for_apriori[col].astype(str)\n",
    "dict_for_apriori = df_for_apriori.to_dict(orient='records')\n",
    "transactions = [list(item.items()) for item in dict_for_apriori]"
   ]
  },
  {
   "cell_type": "code",
   "execution_count": 25,
   "metadata": {},
   "outputs": [],
   "source": [
    "itemsets, rules = apriori(transactions, min_support=0.5, min_confidence=0.5, output_transaction_ids=False)"
   ]
  },
  {
   "cell_type": "code",
   "execution_count": 21,
   "metadata": {},
   "outputs": [
    {
     "data": {
      "text/plain": [
       "58"
      ]
     },
     "execution_count": 21,
     "metadata": {},
     "output_type": "execute_result"
    }
   ],
   "source": [
    "sorted_rules = sorted(rules, key=lambda x: x.confidence, reverse=True)\n",
    "len(sorted_rules)"
   ]
  },
  {
   "attachments": {},
   "cell_type": "markdown",
   "metadata": {},
   "source": []
  },
  {
   "cell_type": "code",
   "execution_count": null,
   "metadata": {},
   "outputs": [],
   "source": []
  },
  {
   "cell_type": "code",
   "execution_count": null,
   "metadata": {},
   "outputs": [],
   "source": [
    "# Impute missing values using datawig.\n",
    "df_with_missing_imputed = datawig.SimpleImputer.complete(df_with_missing, precision_threshold = 0.05, num_epochs=100)"
   ]
  },
  {
   "cell_type": "code",
   "execution_count": null,
   "metadata": {},
   "outputs": [
    {
     "name": "stdout",
     "output_type": "stream",
     "text": [
      "4295\n",
      "960\n"
     ]
    }
   ],
   "source": [
    "print(df_with_missing.isna().sum().sum())\n",
    "print(df_with_missing_imputed.isna().sum().sum())"
   ]
  },
  {
   "cell_type": "code",
   "execution_count": null,
   "metadata": {},
   "outputs": [],
   "source": [
    "# check the percentage of correct predictions, df1 is the complete data, df2 is the data with missing values that was imputed\n",
    "def check_accuracy(df1, df2, with_nan = True):\n",
    "    correct = 0\n",
    "    total = 0\n",
    "    for i in range(len(df1)):\n",
    "        for j in range(len(df1.columns)):\n",
    "            if not with_nan and df2.iloc[i, j] != df2.iloc[i, j]:\n",
    "                continue\n",
    "            elif df1.iloc[i, j] == df2.iloc[i, j]:\n",
    "                correct += 1\n",
    "            total += 1        \n",
    "                \n",
    "    return correct / total  # return the percentage of correct predictions"
   ]
  },
  {
   "cell_type": "code",
   "execution_count": null,
   "metadata": {},
   "outputs": [
    {
     "name": "stdout",
     "output_type": "stream",
     "text": [
      "With Nan = 0.9275355861976788\n",
      " Without Nan = 0.9482362050511262\n"
     ]
    }
   ],
   "source": [
    "print(f'With Nan = {check_accuracy(df, df_with_missing_imputed, True)}\\n Without Nan = {check_accuracy(df, df_with_missing_imputed, False)}')"
   ]
  }
 ],
 "metadata": {
  "kernelspec": {
   "display_name": ".venv",
   "language": "python",
   "name": "python3"
  },
  "language_info": {
   "codemirror_mode": {
    "name": "ipython",
    "version": 3
   },
   "file_extension": ".py",
   "mimetype": "text/x-python",
   "name": "python",
   "nbconvert_exporter": "python",
   "pygments_lexer": "ipython3",
   "version": "3.9.5"
  },
  "orig_nbformat": 4,
  "vscode": {
   "interpreter": {
    "hash": "9fe82780df2aa147e62ba0f4442bd6b9167435ab2261ee644cb1d0ee281d9178"
   }
  }
 },
 "nbformat": 4,
 "nbformat_minor": 2
}
