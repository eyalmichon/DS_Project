{
 "cells": [
  {
   "cell_type": "code",
   "execution_count": 96,
   "metadata": {},
   "outputs": [],
   "source": [
    "# Data libraries.\n",
    "import numpy as np\n",
    "import scipy as sp\n",
    "import pandas as pd\n",
    "\n",
    "# Data vizualization libraries.\n",
    "import matplotlib.pyplot as plt\n",
    "\n",
    "# Association rules libraries.\n",
    "from efficient_apriori import apriori\n",
    "\n",
    "# Machine learning libraries.\n",
    "import datawig"
   ]
  },
  {
   "cell_type": "code",
   "execution_count": 88,
   "metadata": {},
   "outputs": [],
   "source": [
    "# Read data from files.\n",
    "df = pd.read_csv('./data/housePrices/raw/raw_housePrices_no_nan.csv')\n",
    "df_with_missing = pd.read_csv('./data/housePrices/10percent/raw_housePrices_0.1nan.csv')"
   ]
  },
  {
   "cell_type": "code",
   "execution_count": 101,
   "metadata": {},
   "outputs": [],
   "source": [
    "df_for_apriori = df_with_missing.copy()\n",
    "for col in df_for_apriori.columns():\n",
    "    df_for_apriori[col] = df_for_apriori[col].astype(str)\n",
    "dict_for_apriori = df_for_apriori.to_dict(orient='records')\n",
    "transactions = [list(item.items()) for item in dict_for_apriori]"
   ]
  },
  {
   "cell_type": "code",
   "execution_count": 98,
   "metadata": {},
   "outputs": [
    {
     "ename": "TypeError",
     "evalue": "'<' not supported between instances of 'str' and 'float'",
     "output_type": "error",
     "traceback": [
      "\u001b[1;31m---------------------------------------------------------------------------\u001b[0m",
      "\u001b[1;31mTypeError\u001b[0m                                 Traceback (most recent call last)",
      "Cell \u001b[1;32mIn[98], line 1\u001b[0m\n\u001b[1;32m----> 1\u001b[0m itemsets, rules \u001b[39m=\u001b[39m apriori(transactions, min_support\u001b[39m=\u001b[39;49m\u001b[39m0.05\u001b[39;49m, min_confidence\u001b[39m=\u001b[39;49m\u001b[39m0.5\u001b[39;49m, output_transaction_ids\u001b[39m=\u001b[39;49m\u001b[39mFalse\u001b[39;49;00m)\n",
      "File \u001b[1;32mc:\\Users\\Arthur\\Desktop\\Tabular Science Project\\DS_Project\\.venv\\lib\\site-packages\\efficient_apriori\\apriori.py:58\u001b[0m, in \u001b[0;36mapriori\u001b[1;34m(transactions, min_support, min_confidence, max_length, verbosity, output_transaction_ids)\u001b[0m\n\u001b[0;32m     12\u001b[0m \u001b[39mdef\u001b[39;00m \u001b[39mapriori\u001b[39m(\n\u001b[0;32m     13\u001b[0m     transactions: typing\u001b[39m.\u001b[39mIterable[typing\u001b[39m.\u001b[39mUnion[\u001b[39mset\u001b[39m, \u001b[39mtuple\u001b[39m, \u001b[39mlist\u001b[39m]],\n\u001b[0;32m     14\u001b[0m     min_support: \u001b[39mfloat\u001b[39m \u001b[39m=\u001b[39m \u001b[39m0.5\u001b[39m,\n\u001b[1;32m   (...)\u001b[0m\n\u001b[0;32m     18\u001b[0m     output_transaction_ids: \u001b[39mbool\u001b[39m \u001b[39m=\u001b[39m \u001b[39mFalse\u001b[39;00m,\n\u001b[0;32m     19\u001b[0m ):\n\u001b[0;32m     20\u001b[0m \u001b[39m    \u001b[39m\u001b[39m\"\"\"\u001b[39;00m\n\u001b[0;32m     21\u001b[0m \u001b[39m    The classic apriori algorithm as described in 1994 by Agrawal et al.\u001b[39;00m\n\u001b[0;32m     22\u001b[0m \n\u001b[1;32m   (...)\u001b[0m\n\u001b[0;32m     55\u001b[0m \u001b[39m    [{a} -> {b}]\u001b[39;00m\n\u001b[0;32m     56\u001b[0m \u001b[39m    \"\"\"\u001b[39;00m\n\u001b[1;32m---> 58\u001b[0m     itemsets, num_trans \u001b[39m=\u001b[39m itemsets_from_transactions(\n\u001b[0;32m     59\u001b[0m         transactions,\n\u001b[0;32m     60\u001b[0m         min_support,\n\u001b[0;32m     61\u001b[0m         max_length,\n\u001b[0;32m     62\u001b[0m         verbosity,\n\u001b[0;32m     63\u001b[0m         output_transaction_ids\u001b[39m=\u001b[39;49m\u001b[39mTrue\u001b[39;49;00m,\n\u001b[0;32m     64\u001b[0m     )\n\u001b[0;32m     66\u001b[0m     itemsets_raw \u001b[39m=\u001b[39m {\n\u001b[0;32m     67\u001b[0m         length: {item: counter\u001b[39m.\u001b[39mitemset_count \u001b[39mfor\u001b[39;00m (item, counter) \u001b[39min\u001b[39;00m itemsets\u001b[39m.\u001b[39mitems()}\n\u001b[0;32m     68\u001b[0m         \u001b[39mfor\u001b[39;00m (length, itemsets) \u001b[39min\u001b[39;00m itemsets\u001b[39m.\u001b[39mitems()\n\u001b[0;32m     69\u001b[0m     }\n\u001b[0;32m     70\u001b[0m     rules \u001b[39m=\u001b[39m generate_rules_apriori(itemsets_raw, min_confidence, num_trans, verbosity)\n",
      "File \u001b[1;32mc:\\Users\\Arthur\\Desktop\\Tabular Science Project\\DS_Project\\.venv\\lib\\site-packages\\efficient_apriori\\itemsets.py:316\u001b[0m, in \u001b[0;36mitemsets_from_transactions\u001b[1;34m(transactions, min_support, max_length, verbosity, output_transaction_ids)\u001b[0m\n\u001b[0;32m    310\u001b[0m     \u001b[39mprint\u001b[39m(\u001b[39m\"\u001b[39m\u001b[39m Counting itemsets of length \u001b[39m\u001b[39m{}\u001b[39;00m\u001b[39m.\u001b[39m\u001b[39m\"\u001b[39m\u001b[39m.\u001b[39mformat(k))\n\u001b[0;32m    312\u001b[0m \u001b[39m# STEP 2a) - Build up candidate of larger itemsets\u001b[39;00m\n\u001b[0;32m    313\u001b[0m \n\u001b[0;32m    314\u001b[0m \u001b[39m# Retrieve the itemsets of the previous size, i.e. of size k - 1\u001b[39;00m\n\u001b[0;32m    315\u001b[0m \u001b[39m# They must be sorted to maintain the invariant when joining/pruning\u001b[39;00m\n\u001b[1;32m--> 316\u001b[0m itemsets_list \u001b[39m=\u001b[39m \u001b[39msorted\u001b[39;49m(item \u001b[39mfor\u001b[39;49;00m item \u001b[39min\u001b[39;49;00m large_itemsets[k \u001b[39m-\u001b[39;49m \u001b[39m1\u001b[39;49m]\u001b[39m.\u001b[39;49mkeys())\n\u001b[0;32m    318\u001b[0m \u001b[39m# Gen candidates of length k + 1 by joining, prune, and copy as set\u001b[39;00m\n\u001b[0;32m    319\u001b[0m \u001b[39m# This algorithm assumes that the list of itemsets are sorted,\u001b[39;00m\n\u001b[0;32m    320\u001b[0m \u001b[39m# and that the itemsets themselves are sorted tuples\u001b[39;00m\n\u001b[0;32m    321\u001b[0m C_k: typing\u001b[39m.\u001b[39mList[\u001b[39mtuple\u001b[39m] \u001b[39m=\u001b[39m \u001b[39mlist\u001b[39m(apriori_gen(itemsets_list))\n",
      "\u001b[1;31mTypeError\u001b[0m: '<' not supported between instances of 'str' and 'float'"
     ]
    }
   ],
   "source": [
    "itemsets, rules = apriori(transactions, min_support=0.05, min_confidence=0.5, output_transaction_ids=False)"
   ]
  },
  {
   "cell_type": "code",
   "execution_count": null,
   "metadata": {},
   "outputs": [],
   "source": [
    "# Impute missing values using datawig.\n",
    "df_with_missing_imputed = datawig.SimpleImputer.complete(df_with_missing, precision_threshold = 0.05, num_epochs=100)"
   ]
  },
  {
   "cell_type": "code",
   "execution_count": 74,
   "metadata": {},
   "outputs": [
    {
     "name": "stdout",
     "output_type": "stream",
     "text": [
      "4295\n",
      "960\n"
     ]
    }
   ],
   "source": [
    "print(df_with_missing.isna().sum().sum())\n",
    "print(df_with_missing_imputed.isna().sum().sum())"
   ]
  },
  {
   "cell_type": "code",
   "execution_count": 86,
   "metadata": {},
   "outputs": [],
   "source": [
    "# check the percentage of correct predictions, df1 is the complete data, df2 is the data with missing values that was imputed\n",
    "def check_accuracy(df1, df2, with_nan = True):\n",
    "    correct = 0\n",
    "    total = 0\n",
    "    for i in range(len(df1)):\n",
    "        for j in range(len(df1.columns)):\n",
    "            if not with_nan and df2.iloc[i, j] != df2.iloc[i, j]:\n",
    "                continue\n",
    "            elif df1.iloc[i, j] == df2.iloc[i, j]:\n",
    "                correct += 1\n",
    "            total += 1        \n",
    "                \n",
    "    return correct / total  # return the percentage of correct predictions"
   ]
  },
  {
   "cell_type": "code",
   "execution_count": 87,
   "metadata": {},
   "outputs": [
    {
     "name": "stdout",
     "output_type": "stream",
     "text": [
      "With Nan = 0.9275355861976788\n",
      " Without Nan = 0.9482362050511262\n"
     ]
    }
   ],
   "source": [
    "print(f'With Nan = {check_accuracy(df, df_with_missing_imputed, True)}\\n Without Nan = {check_accuracy(df, df_with_missing_imputed, False)}')"
   ]
  }
 ],
 "metadata": {
  "kernelspec": {
   "display_name": ".venv",
   "language": "python",
   "name": "python3"
  },
  "language_info": {
   "codemirror_mode": {
    "name": "ipython",
    "version": 3
   },
   "file_extension": ".py",
   "mimetype": "text/x-python",
   "name": "python",
   "nbconvert_exporter": "python",
   "pygments_lexer": "ipython3",
   "version": "3.9.4"
  },
  "orig_nbformat": 4,
  "vscode": {
   "interpreter": {
    "hash": "5bf190b5e1b2470a583a99ea3991c6008041ce045e38fec866f56d87f63d334a"
   }
  }
 },
 "nbformat": 4,
 "nbformat_minor": 2
}
